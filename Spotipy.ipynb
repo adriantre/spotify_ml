{
 "cells": [
  {
   "cell_type": "code",
   "execution_count": 1,
   "metadata": {},
   "outputs": [],
   "source": [
    "import pprint\n",
    "import sys, os\n",
    "\n",
    "import spotipy\n",
    "import spotipy.util as util\n",
    "\n",
    "import pandas as pd\n",
    "from IPython.display import JSON"
   ]
  },
  {
   "cell_type": "code",
   "execution_count": 3,
   "metadata": {},
   "outputs": [],
   "source": [
    "USERNAME = os.environ['USERNAME']\n",
    "SPOTIPY_CLIENT_ID = os.environ['SPOTIPY_CLIENT_ID']\n",
    "SPOTIPY_CLIENT_SECRET = os.environ['SPOTIPY_CLIENT_SECRET']\n",
    "SPOTIPY_REDIRECT_URI = os.environ['SPOTIPY_REDIRECT_URI']"
   ]
  },
  {
   "cell_type": "code",
   "execution_count": 4,
   "metadata": {},
   "outputs": [],
   "source": [
    "scope = 'user-top-read'\n",
    "token = util.prompt_for_user_token(\n",
    "    USERNAME,\n",
    "    scope,\n",
    "    client_id=SPOTIPY_CLIENT_ID,\n",
    "    client_secret=SPOTIPY_CLIENT_SECRET,\n",
    "    redirect_uri=SPOTIPY_REDIRECT_URI\n",
    ")"
   ]
  },
  {
   "cell_type": "code",
   "execution_count": 5,
   "metadata": {},
   "outputs": [],
   "source": [
    "tracks = []"
   ]
  },
  {
   "cell_type": "markdown",
   "metadata": {},
   "source": [
    "## Get songs that I like"
   ]
  },
  {
   "cell_type": "code",
   "execution_count": 6,
   "metadata": {},
   "outputs": [],
   "source": [
    "columns = ['album','artist','duration_ms','track_id','track_name','popularity','track_uri']"
   ]
  },
  {
   "cell_type": "code",
   "execution_count": 7,
   "metadata": {},
   "outputs": [],
   "source": [
    "def parseTrack(item):\n",
    "    track = {}\n",
    "    track['album'] = item['album']['name']\n",
    "    track['artist'] = item['artists'][0]['name']\n",
    "    track['duration_ms'] = item['duration_ms']\n",
    "    track['track_id'] = item['id']\n",
    "    track['track_name'] = item['name']\n",
    "    track['popularity'] = item['popularity']\n",
    "    track['track_uri'] = item ['uri']\n",
    "    return track"
   ]
  },
  {
   "cell_type": "code",
   "execution_count": 8,
   "metadata": {},
   "outputs": [],
   "source": [
    "sp = spotipy.Spotify(auth=token)\n",
    "sp.trace = False\n",
    "ranges = ['short_term', 'medium_term', 'long_term']\n",
    "for range in ranges:\n",
    "    result = sp.current_user_top_tracks(time_range=range, limit=1000)\n",
    "    for item in result['items']:\n",
    "        track = parseTrack(item)\n",
    "        tracks.append(track)"
   ]
  },
  {
   "cell_type": "code",
   "execution_count": 9,
   "metadata": {},
   "outputs": [],
   "source": [
    "df = pd.DataFrame.from_dict(tracks)"
   ]
  },
  {
   "cell_type": "code",
   "execution_count": 10,
   "metadata": {},
   "outputs": [
    {
     "data": {
      "text/html": [
       "<div>\n",
       "<style scoped>\n",
       "    .dataframe tbody tr th:only-of-type {\n",
       "        vertical-align: middle;\n",
       "    }\n",
       "\n",
       "    .dataframe tbody tr th {\n",
       "        vertical-align: top;\n",
       "    }\n",
       "\n",
       "    .dataframe thead th {\n",
       "        text-align: right;\n",
       "    }\n",
       "</style>\n",
       "<table border=\"1\" class=\"dataframe\">\n",
       "  <thead>\n",
       "    <tr style=\"text-align: right;\">\n",
       "      <th></th>\n",
       "      <th>album</th>\n",
       "      <th>artist</th>\n",
       "      <th>duration_ms</th>\n",
       "      <th>track_id</th>\n",
       "      <th>track_name</th>\n",
       "      <th>popularity</th>\n",
       "      <th>track_uri</th>\n",
       "    </tr>\n",
       "  </thead>\n",
       "  <tbody>\n",
       "    <tr>\n",
       "      <th>0</th>\n",
       "      <td>Hajk</td>\n",
       "      <td>Hajk</td>\n",
       "      <td>233746</td>\n",
       "      <td>7LEmD0e4GaTjJQ2xIOmkmk</td>\n",
       "      <td>Common Sense</td>\n",
       "      <td>15</td>\n",
       "      <td>spotify:track:7LEmD0e4GaTjJQ2xIOmkmk</td>\n",
       "    </tr>\n",
       "  </tbody>\n",
       "</table>\n",
       "</div>"
      ],
      "text/plain": [
       "  album artist  duration_ms                track_id    track_name  popularity  \\\n",
       "0  Hajk   Hajk       233746  7LEmD0e4GaTjJQ2xIOmkmk  Common Sense          15   \n",
       "\n",
       "                              track_uri  \n",
       "0  spotify:track:7LEmD0e4GaTjJQ2xIOmkmk  "
      ]
     },
     "execution_count": 10,
     "metadata": {},
     "output_type": "execute_result"
    }
   ],
   "source": [
    "df.head(1)"
   ]
  },
  {
   "cell_type": "code",
   "execution_count": 342,
   "metadata": {},
   "outputs": [],
   "source": [
    "df = df.drop_duplicates()"
   ]
  },
  {
   "cell_type": "code",
   "execution_count": 343,
   "metadata": {},
   "outputs": [],
   "source": [
    "def getTrackFeatures(df):\n",
    "    track_feature_cols = ['danceability','energy','key','loudness','mode','speechiness',\n",
    "        'acousticness','instrumentalness','liveness','valence','tempo','type','id','uri',\n",
    "        'track_href','analysis_url','duration_ms','time_signature']\n",
    "    df[track_feature_cols] = df.apply((lambda track: pd.Series(sp.audio_features(track['track_uri'])[0])), axis=1, result_type=\"expand\")\n",
    "    return df"
   ]
  },
  {
   "cell_type": "code",
   "execution_count": 344,
   "metadata": {},
   "outputs": [],
   "source": [
    "df = getTrackFeatures(df)"
   ]
  },
  {
   "cell_type": "code",
   "execution_count": 345,
   "metadata": {},
   "outputs": [
    {
     "data": {
      "text/html": [
       "<div>\n",
       "<style scoped>\n",
       "    .dataframe tbody tr th:only-of-type {\n",
       "        vertical-align: middle;\n",
       "    }\n",
       "\n",
       "    .dataframe tbody tr th {\n",
       "        vertical-align: top;\n",
       "    }\n",
       "\n",
       "    .dataframe thead th {\n",
       "        text-align: right;\n",
       "    }\n",
       "</style>\n",
       "<table border=\"1\" class=\"dataframe\">\n",
       "  <thead>\n",
       "    <tr style=\"text-align: right;\">\n",
       "      <th></th>\n",
       "      <th>album</th>\n",
       "      <th>artist</th>\n",
       "      <th>duration_ms</th>\n",
       "      <th>popularity</th>\n",
       "      <th>track_id</th>\n",
       "      <th>track_name</th>\n",
       "      <th>track_uri</th>\n",
       "      <th>danceability</th>\n",
       "      <th>energy</th>\n",
       "      <th>key</th>\n",
       "      <th>...</th>\n",
       "      <th>instrumentalness</th>\n",
       "      <th>liveness</th>\n",
       "      <th>valence</th>\n",
       "      <th>tempo</th>\n",
       "      <th>type</th>\n",
       "      <th>id</th>\n",
       "      <th>uri</th>\n",
       "      <th>track_href</th>\n",
       "      <th>analysis_url</th>\n",
       "      <th>time_signature</th>\n",
       "    </tr>\n",
       "  </thead>\n",
       "  <tbody>\n",
       "    <tr>\n",
       "      <th>0</th>\n",
       "      <td>Fleet Foxes</td>\n",
       "      <td>Fleet Foxes</td>\n",
       "      <td>191493</td>\n",
       "      <td>34</td>\n",
       "      <td>2SHOE3LHVBluhe1WZ7M8ig</td>\n",
       "      <td>Sun It Rises</td>\n",
       "      <td>spotify:track:2SHOE3LHVBluhe1WZ7M8ig</td>\n",
       "      <td>0.577</td>\n",
       "      <td>0.285</td>\n",
       "      <td>7</td>\n",
       "      <td>...</td>\n",
       "      <td>0.0649</td>\n",
       "      <td>0.163</td>\n",
       "      <td>0.0653</td>\n",
       "      <td>112.025</td>\n",
       "      <td>audio_features</td>\n",
       "      <td>2SHOE3LHVBluhe1WZ7M8ig</td>\n",
       "      <td>spotify:track:2SHOE3LHVBluhe1WZ7M8ig</td>\n",
       "      <td>https://api.spotify.com/v1/tracks/2SHOE3LHVBlu...</td>\n",
       "      <td>https://api.spotify.com/v1/audio-analysis/2SHO...</td>\n",
       "      <td>3</td>\n",
       "    </tr>\n",
       "  </tbody>\n",
       "</table>\n",
       "<p>1 rows × 24 columns</p>\n",
       "</div>"
      ],
      "text/plain": [
       "         album       artist  duration_ms  popularity                track_id  \\\n",
       "0  Fleet Foxes  Fleet Foxes       191493          34  2SHOE3LHVBluhe1WZ7M8ig   \n",
       "\n",
       "     track_name                             track_uri  danceability  energy  \\\n",
       "0  Sun It Rises  spotify:track:2SHOE3LHVBluhe1WZ7M8ig         0.577   0.285   \n",
       "\n",
       "   key  ...  instrumentalness  liveness  valence    tempo            type  \\\n",
       "0    7  ...            0.0649     0.163   0.0653  112.025  audio_features   \n",
       "\n",
       "                       id                                   uri  \\\n",
       "0  2SHOE3LHVBluhe1WZ7M8ig  spotify:track:2SHOE3LHVBluhe1WZ7M8ig   \n",
       "\n",
       "                                          track_href  \\\n",
       "0  https://api.spotify.com/v1/tracks/2SHOE3LHVBlu...   \n",
       "\n",
       "                                        analysis_url time_signature  \n",
       "0  https://api.spotify.com/v1/audio-analysis/2SHO...              3  \n",
       "\n",
       "[1 rows x 24 columns]"
      ]
     },
     "execution_count": 345,
     "metadata": {},
     "output_type": "execute_result"
    }
   ],
   "source": [
    "df.head(1)"
   ]
  },
  {
   "cell_type": "code",
   "execution_count": 346,
   "metadata": {},
   "outputs": [],
   "source": [
    "df.to_csv('my_top_135.csv')"
   ]
  },
  {
   "cell_type": "markdown",
   "metadata": {},
   "source": [
    "## Get songs that i dislike"
   ]
  },
  {
   "cell_type": "markdown",
   "metadata": {},
   "source": [
    "### Will use top streamed tracks on spotify"
   ]
  },
  {
   "cell_type": "code",
   "execution_count": 11,
   "metadata": {},
   "outputs": [],
   "source": [
    "dislike_df = pd.read_csv(\"world_top_135_raw.csv\")"
   ]
  },
  {
   "cell_type": "code",
   "execution_count": 12,
   "metadata": {},
   "outputs": [],
   "source": [
    "dislike_df['track_uri'] = dislike_df['Track URL']"
   ]
  },
  {
   "cell_type": "code",
   "execution_count": 13,
   "metadata": {},
   "outputs": [],
   "source": [
    "dislike_df = dislike_df.reindex(columns = ['track_uri'])"
   ]
  },
  {
   "cell_type": "code",
   "execution_count": 14,
   "metadata": {},
   "outputs": [],
   "source": [
    "dislike_df[columns] = dislike_df.apply((lambda track: pd.Series(parseTrack(sp.track(track['track_uri'])))), axis=1, result_type=\"expand\")"
   ]
  },
  {
   "cell_type": "code",
   "execution_count": 369,
   "metadata": {},
   "outputs": [],
   "source": [
    "dislike_df = getTrackFeatures(dislike_df)"
   ]
  },
  {
   "cell_type": "code",
   "execution_count": 371,
   "metadata": {},
   "outputs": [],
   "source": [
    "dislike_df.to_csv(\"world_top_135.csv\")"
   ]
  }
 ],
 "metadata": {
  "kernelspec": {
   "display_name": "Python 3",
   "language": "python",
   "name": "python3"
  },
  "language_info": {
   "codemirror_mode": {
    "name": "ipython",
    "version": 3
   },
   "file_extension": ".py",
   "mimetype": "text/x-python",
   "name": "python",
   "nbconvert_exporter": "python",
   "pygments_lexer": "ipython3",
   "version": "3.7.3"
  }
 },
 "nbformat": 4,
 "nbformat_minor": 4
}
