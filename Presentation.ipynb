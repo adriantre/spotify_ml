{
 "cells": [
  {
   "cell_type": "code",
   "execution_count": null,
   "metadata": {},
   "outputs": [],
   "source": [
    "import pandas as pd\n",
    "from sklearn.svm import SVC"
   ]
  },
  {
   "cell_type": "markdown",
   "metadata": {},
   "source": [
    "# Load data"
   ]
  },
  {
   "cell_type": "code",
   "execution_count": null,
   "metadata": {},
   "outputs": [],
   "source": [
    "data1 = download_data1()"
   ]
  },
  {
   "cell_type": "code",
   "execution_count": null,
   "metadata": {},
   "outputs": [],
   "source": [
    "data2 = download_data2()"
   ]
  },
  {
   "cell_type": "markdown",
   "metadata": {},
   "source": [
    "# Combine data"
   ]
  },
  {
   "cell_type": "code",
   "execution_count": null,
   "metadata": {},
   "outputs": [],
   "source": [
    "data = pd.concat([data1, data2])"
   ]
  },
  {
   "cell_type": "markdown",
   "metadata": {},
   "source": [
    "# Preprocess data"
   ]
  },
  {
   "cell_type": "code",
   "execution_count": null,
   "metadata": {},
   "outputs": [],
   "source": [
    "data = preprocess(data)"
   ]
  },
  {
   "cell_type": "markdown",
   "metadata": {},
   "source": [
    "# Train model"
   ]
  },
  {
   "cell_type": "code",
   "execution_count": null,
   "metadata": {},
   "outputs": [],
   "source": [
    "model = SVC()"
   ]
  },
  {
   "cell_type": "code",
   "execution_count": null,
   "metadata": {},
   "outputs": [],
   "source": [
    "model.fit(data[:,:-1], data['target'])"
   ]
  },
  {
   "cell_type": "code",
   "execution_count": null,
   "metadata": {},
   "outputs": [],
   "source": []
  },
  {
   "cell_type": "code",
   "execution_count": null,
   "metadata": {},
   "outputs": [],
   "source": [
    "class TaskGetData1(d6tflow.tasks.TaskPqPandas):\n",
    "    \n",
    "    def run():\n",
    "        data = download_data1()\n",
    "        self.save(data)"
   ]
  },
  {
   "cell_type": "code",
   "execution_count": null,
   "metadata": {},
   "outputs": [],
   "source": [
    "class TaskGetData2(d6tflow.tasks.TaskPqPandas):\n",
    "    \n",
    "    def run():\n",
    "        data = download_data2()\n",
    "        self.save(data)"
   ]
  },
  {
   "cell_type": "code",
   "execution_count": null,
   "metadata": {},
   "outputs": [],
   "source": [
    "class TaskCombineData(d6tflow.tasks.TaskPqPandas):\n",
    "    do_preprocess = luigi.BoolParameter(default=True) # parameter for preprocessing\n",
    "\n",
    "    def requires(self):\n",
    "        return TaskGetData1(), TaskGetData2() # define dependency\n",
    "    \n",
    "    def run(self):\n",
    "        data1, data2 = self.loadInputs() # load input data\n",
    "        data = pd.concat([data1, data2])\n",
    "        \n",
    "        if do_preprocess:\n",
    "            data = preprocess(data)\n",
    "        \n",
    "        self.save(data) # save output data"
   ]
  },
  {
   "cell_type": "code",
   "execution_count": null,
   "metadata": {},
   "outputs": [],
   "source": [
    "@inherits(TaskCombineData) # pass parameters up to parent\n",
    "class TaskTrain():\n",
    "    \n",
    "    def requires(self):\n",
    "        return self.clone_parent()\n",
    "    \n",
    "    def run(self):\n",
    "        data = self.input().load()\n",
    "        model = SVC()\n",
    "        model.fit(data[:,:-1], data['target'])\n",
    "        self.save(model)"
   ]
  },
  {
   "cell_type": "code",
   "execution_count": null,
   "metadata": {},
   "outputs": [],
   "source": [
    "d6tflow.run(TaskTrain(do_preprocess=True))"
   ]
  }
 ],
 "metadata": {
  "kernelspec": {
   "display_name": "Python 3",
   "language": "python",
   "name": "python3"
  },
  "language_info": {
   "codemirror_mode": {
    "name": "ipython",
    "version": 3
   },
   "file_extension": ".py",
   "mimetype": "text/x-python",
   "name": "python",
   "nbconvert_exporter": "python",
   "pygments_lexer": "ipython3",
   "version": "3.7.3"
  }
 },
 "nbformat": 4,
 "nbformat_minor": 4
}
